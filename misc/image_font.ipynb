{
 "cells": [
  {
   "cell_type": "code",
   "execution_count": null,
   "metadata": {
    "collapsed": true
   },
   "outputs": [],
   "source": [
    "from PIL import ImageFont, ImageDraw\n",
    "\n",
    "draw = ImageDraw.Draw(image)\n",
    "\n",
    "# use a bitmap font\n",
    "font = ImageFont.load(\"arial.pil\")\n",
    "\n",
    "draw.text((10, 10), \"hello\", font=font)\n",
    "\n",
    "# use a truetype font\n",
    "font = ImageFont.truetype(\"arial.ttf\", 15)\n",
    "\n",
    "draw.text((10, 25), \"world\", font=font)"
   ]
  }
 ],
 "metadata": {
  "kernelspec": {
   "display_name": "Python 2",
   "language": "python",
   "name": "python2"
  },
  "language_info": {
   "codemirror_mode": {
    "name": "ipython",
    "version": 2
   },
   "file_extension": ".py",
   "mimetype": "text/x-python",
   "name": "python",
   "nbconvert_exporter": "python",
   "pygments_lexer": "ipython2",
   "version": "2.7.6"
  }
 },
 "nbformat": 4,
 "nbformat_minor": 0
}
