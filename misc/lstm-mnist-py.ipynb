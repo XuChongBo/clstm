{
 "cells": [
  {
   "cell_type": "code",
   "execution_count": 58,
   "metadata": {
    "collapsed": false
   },
   "outputs": [
    {
     "name": "stdout",
     "output_type": "stream",
     "text": [
      "Populating the interactive namespace from numpy and matplotlib\n"
     ]
    }
   ],
   "source": [
    "%pylab inline\n",
    "figsize(10,5)\n",
    "matplotlib.rcParams[\"image.interpolation\"] = \"none\"\n",
    "matplotlib.rcParams[\"image.cmap\"] = \"afmhot\""
   ]
  },
  {
   "cell_type": "code",
   "execution_count": 59,
   "metadata": {
    "collapsed": false
   },
   "outputs": [],
   "source": [
    "import clstm\n",
    "import h5py"
   ]
  },
  {
   "cell_type": "markdown",
   "metadata": {},
   "source": [
    "# LSTM + CTC Training on MNIST"
   ]
  },
  {
   "cell_type": "markdown",
   "metadata": {},
   "source": [
    "Let's start by getting the MNIST dataset. This version of MNIST in HDF5 represents images in a sequence format suitable for training with `clstm` command line models."
   ]
  },
  {
   "cell_type": "code",
   "execution_count": 60,
   "metadata": {
    "collapsed": false
   },
   "outputs": [],
   "source": [
    "!test -f mnist_seq.h5 || curl http://www.tmbdev.net/ocrdata-hdf5/mnist_seq.h5 > mnist_seq.h5 || rm -f mnist_seq.h5"
   ]
  },
  {
   "cell_type": "markdown",
   "metadata": {},
   "source": [
    "In HDF5 data files for CLSTM, row `t` represents the input vector at time step `t`. For MNIST, we scan through the original image left-to-right over time.\n",
    "\n",
    "Image storage in HDF5 would have to be a rank 3 doubly ragged array, but HDF5 supports only rank 2 arrays. We therefore store image dimensions in a separate array."
   ]
  },
  {
   "cell_type": "code",
   "execution_count": 61,
   "metadata": {
    "collapsed": false
   },
   "outputs": [
    {
     "name": "stdout",
     "output_type": "stream",
     "text": [
      "(60000,)\n"
     ]
    },
    {
     "data": {
      "image/png": "[encoded data removed]",
      "text/plain": [
       "<matplotlib.figure.Figure at 0x7fb018309d90>"
      ]
     },
     "metadata": {},
     "output_type": "display_data"
    }
   ],
   "source": [
    "h5 = h5py.File(\"mnist_seq.h5\",\"r\")\n",
    "imshow(h5[\"images\"][0].reshape(*h5[\"images_dims\"][0]))\n",
    "print h5[\"images\"].shape"
   ]
  },
  {
   "cell_type": "markdown",
   "metadata": {},
   "source": [
    "Let's use a bidirectional LSTM and a fiarly high learning rate."
   ]
  },
  {
   "cell_type": "code",
   "execution_count": 62,
   "metadata": {
    "collapsed": false
   },
   "outputs": [
    {
     "name": "stdout",
     "output_type": "stream",
     "text": [
      ".Stacked: 0.010000 0.900000 28 11\n",
      ".Stacked.Parallel: 0.010000 0.900000 28 20\n",
      ".Stacked.Parallel.NPLSTM_SigmoidTanhTanh: 0.010000 0.900000 28 10\n",
      ".Stacked.Parallel.Reversed: 0.010000 0.900000 28 10\n",
      ".Stacked.Parallel.Reversed.NPLSTM_SigmoidTanhTanh: 0.010000 0.900000 28 10\n",
      ".Stacked.SoftmaxLayer: 0.010000 0.900000 20 11\n",
      "\n"
     ]
    }
   ],
   "source": [
    "net = clstm.make_net_init(\"bidi\",\"ninput=28:nhidden=10:noutput=11\")\n",
    "net.setLearningRate(1e-2,0.9)\n",
    "print clstm.network_info(net)"
   ]
  },
  {
   "cell_type": "markdown",
   "metadata": {},
   "source": [
    "The class labels in the dataset are such that digit `0` has been assigned class `10`, since class 0 is reserved for epsilon states in CTC alignment."
   ]
  },
  {
   "cell_type": "code",
   "execution_count": 63,
   "metadata": {
    "collapsed": false
   },
   "outputs": [
    {
     "name": "stdout",
     "output_type": "stream",
     "text": [
      "['\\x00', '1', '2', '3', '4', '5', '6', '7', '8', '9', '0']\n"
     ]
    }
   ],
   "source": [
    "print [chr(c) for c in h5[\"codec\"]]"
   ]
  },
  {
   "cell_type": "code",
   "execution_count": 64,
   "metadata": {
    "collapsed": false
   },
   "outputs": [
    {
     "name": "stdout",
     "output_type": "stream",
     "text": [
      "5\n"
     ]
    },
    {
     "data": {
      "text/plain": [
       "<matplotlib.image.AxesImage at 0x7fb017f71150>"
      ]
     },
     "execution_count": 64,
     "metadata": {},
     "output_type": "execute_result"
    },
    {
     "data": {
      "image/png": "[encoded data removed]",
      "text/plain": [
       "<matplotlib.figure.Figure at 0x7fb0185f3590>"
      ]
     },
     "metadata": {},
     "output_type": "display_data"
    }
   ],
   "source": [
    "index = 0\n",
    "xs = array(h5[\"images\"][index].reshape(28,28,1),'f')\n",
    "cls = h5[\"transcripts\"][index][0]\n",
    "print cls\n",
    "imshow(xs.reshape(28,28).T,cmap=cm.gray)"
   ]
  },
  {
   "cell_type": "code",
   "execution_count": 65,
   "metadata": {
    "collapsed": false
   },
   "outputs": [
    {
     "name": "stdout",
     "output_type": "stream",
     "text": [
      "(28, 11, 1)\n"
     ]
    },
    {
     "data": {
      "text/plain": [
       "<matplotlib.image.AxesImage at 0x7fb018198550>"
      ]
     },
     "execution_count": 65,
     "metadata": {},
     "output_type": "execute_result"
    },
    {
     "data": {
      "image/png": "[encoded data removed]",
      "text/plain": [
       "<matplotlib.figure.Figure at 0x7fb017f01d90>"
      ]
     },
     "metadata": {},
     "output_type": "display_data"
    }
   ],
   "source": [
    "net.inputs.aset(xs)\n",
    "net.forward()\n",
    "pred = net.outputs.array()\n",
    "print pred.shape\n",
    "imshow(pred.reshape(28,11).T, interpolation='none')"
   ]
  },
  {
   "cell_type": "markdown",
   "metadata": {},
   "source": [
    "Forward propagation is quite simple: we take the input data and put it into the input sequence of the network, call the `forward` method, and take the result out of the output sequence.\n",
    "\n",
    "Note that all sequences (including `xs`) in clstm are of rank 3, with indexes giving the time step, the feature dimension, and the batch index, in order.\n",
    "\n",
    "The output from the network is a vector of posterior probabilities at each time step."
   ]
  },
  {
   "cell_type": "markdown",
   "metadata": {},
   "source": [
    "We now construct a \"target\" array and perform CTC alignment with the output."
   ]
  },
  {
   "cell_type": "code",
   "execution_count": 66,
   "metadata": {
    "collapsed": false
   },
   "outputs": [
    {
     "data": {
      "text/plain": [
       "<matplotlib.image.AxesImage at 0x7fb017e9ca10>"
      ]
     },
     "execution_count": 66,
     "metadata": {},
     "output_type": "execute_result"
    },
    {
     "data": {
      "image/png": "[encoded data removed]",
      "text/plain": [
       "<matplotlib.figure.Figure at 0x7fb0180b6f10>"
      ]
     },
     "metadata": {},
     "output_type": "display_data"
    }
   ],
   "source": [
    "target = zeros((3,11),'f')\n",
    "target[0,0] = 1\n",
    "target[2,0] = 1\n",
    "target[1,cls] = 1\n",
    "seq = clstm.Sequence()\n",
    "seq.aset(target.reshape(3,11,1))\n",
    "aligned = clstm.Sequence()\n",
    "clstm.seq_ctc_align(aligned,net.outputs,seq)\n",
    "aligned = aligned.array()\n",
    "imshow(aligned.reshape(28,11).T, interpolation='none')"
   ]
  },
  {
   "cell_type": "markdown",
   "metadata": {},
   "source": [
    "Next, we take the aligned output, subtract the actual output, set that as the output deltas, and the propagate the error backwards and update."
   ]
  },
  {
   "cell_type": "code",
   "execution_count": 67,
   "metadata": {
    "collapsed": false
   },
   "outputs": [],
   "source": [
    "deltas = aligned - net.outputs.array()\n",
    "net.d_outputs.aset(deltas)\n",
    "net.backward()\n",
    "net.update()"
   ]
  },
  {
   "cell_type": "markdown",
   "metadata": {},
   "source": [
    "If we repeat these steps over and over again, we eventually end up with a trained network."
   ]
  },
  {
   "cell_type": "code",
   "execution_count": 68,
   "metadata": {
    "collapsed": false
   },
   "outputs": [],
   "source": [
    "for i in range(60000):\n",
    "    index = int(rand()*60000)\n",
    "    xs = array(h5[\"images\"][index].reshape(28,28,1),'f')\n",
    "    cls = h5[\"transcripts\"][index][0]\n",
    "    net.inputs.aset(xs)\n",
    "    net.forward()\n",
    "    pred = net.outputs.array()\n",
    "    target = zeros((3,11),'f')\n",
    "    target[0,0] = 1\n",
    "    target[2,0] = 1\n",
    "    target[1,cls] = 1\n",
    "    seq = clstm.Sequence()\n",
    "    seq.aset(target.reshape(3,11,1))\n",
    "    aligned = clstm.Sequence()\n",
    "    clstm.seq_ctc_align(aligned,net.outputs,seq)\n",
    "    aligned = aligned.array()\n",
    "    deltas = aligned - net.outputs.array()\n",
    "    net.d_outputs.aset(deltas)\n",
    "    net.backward()\n",
    "    net.update()"
   ]
  },
  {
   "cell_type": "code",
   "execution_count": 69,
   "metadata": {
    "collapsed": false
   },
   "outputs": [
    {
     "data": {
      "text/plain": [
       "<matplotlib.image.AxesImage at 0x7fb017de4d90>"
      ]
     },
     "execution_count": 69,
     "metadata": {},
     "output_type": "execute_result"
    },
    {
     "data": {
      "image/png": "[encoded data removed]",
      "text/plain": [
       "<matplotlib.figure.Figure at 0x7fb017e39450>"
      ]
     },
     "metadata": {},
     "output_type": "display_data"
    }
   ],
   "source": [
    "figsize(5,10)\n",
    "subplot(211,aspect=1)\n",
    "imshow(xs.reshape(28,28).T)\n",
    "subplot(212,aspect=1)\n",
    "imshow(pred.reshape(28,11).T, interpolation='none', vmin=0, vmax=1)"
   ]
  },
  {
   "cell_type": "code",
   "execution_count": 74,
   "metadata": {
    "collapsed": false
   },
   "outputs": [
    {
     "name": "stdout",
     "output_type": "stream",
     "text": [
      "1\n",
      "(28, 11, 1)\n"
     ]
    },
    {
     "data": {
      "text/plain": [
       "<matplotlib.image.AxesImage at 0x7fb0179851d0>"
      ]
     },
     "execution_count": 74,
     "metadata": {},
     "output_type": "execute_result"
    },
    {
     "data": {
      "image/png": "[encoded data removed]",
      "text/plain": [
       "<matplotlib.figure.Figure at 0x7fb017a81490>"
      ]
     },
     "metadata": {},
     "output_type": "display_data"
    }
   ],
   "source": [
    "index = 14\n",
    "xs = array(h5[\"images\"][index].reshape(28,28,1),'f')\n",
    "cls = h5[\"transcripts\"][index][0]\n",
    "print cls\n",
    "imshow(xs.reshape(28,28).T,cmap=cm.gray)\n",
    "net.inputs.aset(xs)\n",
    "net.forward()\n",
    "pred = net.outputs.array()\n",
    "print pred.shape\n",
    "imshow(pred.reshape(28,11).T, interpolation='none', vmin=0, vmax=1)"
   ]
  }
 ],
 "metadata": {
  "kernelspec": {
   "display_name": "Python 2",
   "language": "python",
   "name": "python2"
  },
  "language_info": {
   "codemirror_mode": {
    "name": "ipython",
    "version": 2
   },
   "file_extension": ".py",
   "mimetype": "text/x-python",
   "name": "python",
   "nbconvert_exporter": "python",
   "pygments_lexer": "ipython2",
   "version": "2.7.6"
  }
 },
 "nbformat": 4,
 "nbformat_minor": 0
}
