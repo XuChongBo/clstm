{
 "cells": [
  {
   "cell_type": "code",
   "execution_count": 1,
   "metadata": {
    "collapsed": false
   },
   "outputs": [
    {
     "name": "stdout",
     "output_type": "stream",
     "text": [
      "Populating the interactive namespace from numpy and matplotlib\n"
     ]
    }
   ],
   "source": [
    "%pylab inline"
   ]
  },
  {
   "cell_type": "code",
   "execution_count": 2,
   "metadata": {
    "collapsed": false
   },
   "outputs": [
    {
     "name": "stdout",
     "output_type": "stream",
     "text": [
      "﻿The Project Gutenberg EBook of An Inquiry into the Nature and Causes of\n",
      "the Wealth of Nations, by Adam Smith\n",
      "\n",
      "This eBook is for the use of anyone anywhere at no cost and with\n",
      "almost no restrictions whatsoever. You may copy it, give it away or\n"
     ]
    },
    {
     "name": "stderr",
     "output_type": "stream",
     "text": [
      "  % Total    % Received % Xferd  Average Speed   Time    Time     Time  Current\n",
      "                                 Dload  Upload   Total   Spent    Left  Speed\n",
      "\r",
      "  0     0    0     0    0     0      0      0 --:--:-- --:--:-- --:--:--     0\r",
      "  0     0    0     0    0     0      0      0 --:--:-- --:--:-- --:--:--     0\r",
      "  0     0    0     0    0     0      0      0 --:--:--  0:00:01 --:--:--     0\r",
      "  0 2223k    0 13854    0     0   4837      0  0:07:50  0:00:02  0:07:48  4837\r",
      "  1 2223k    1 38266    0     0  11071      0  0:03:25  0:00:03  0:03:22 11069\r",
      "  5 2223k    5  111k    0     0  25992      0  0:01:27  0:00:04  0:01:23 25988\r",
      "  8 2223k    8  194k    0     0  37570      0  0:01:00  0:00:05  0:00:55 41556\r",
      " 20 2223k   20  460k    0     0  72058      0  0:00:31  0:00:06  0:00:25 93657\r",
      " 31 2223k   31  699k    0     0  94541      0  0:00:24  0:00:07  0:00:17  145k\r",
      " 37 2223k   37  831k    0     0  96731      0  0:00:23  0:00:08  0:00:15  148k\r",
      " 38 2223k   38  849k    0     0  92411      0  0:00:24  0:00:09  0:00:15  147k\r",
      " 39 2223k   39  882k    0     0  86783      0  0:00:26  0:00:10  0:00:16  134k\r",
      " 39 2223k   39  884k    0     0  75754      0  0:00:30  0:00:11  0:00:19 80235\r",
      " 41 2223k   41  932k    0     0  74640      0  0:00:30  0:00:12  0:00:18 45778\r",
      " 45 2223k   45 1022k    0     0  78043      0  0:00:29  0:00:13  0:00:16 42365\r",
      " 50 2223k   50 1124k    0     0  78640      0  0:00:28  0:00:14  0:00:14 53811\r",
      " 51 2223k   51 1134k    0     0  74247      0  0:00:30  0:00:15  0:00:15 49249\r",
      " 52 2223k   52 1167k    0     0  70880      0  0:00:32  0:00:16  0:00:16 59021\r",
      " 53 2223k   53 1193k    0     0  68967      0  0:00:33  0:00:17  0:00:16 54206\r",
      " 54 2223k   54 1202k    0     0  67204      0  0:00:33  0:00:18  0:00:15 37592\r",
      " 54 2223k   54 1208k    0     0  64021      0  0:00:35  0:00:19  0:00:16 18374\r",
      " 54 2223k   54 1208k    0     0  60868      0  0:00:37  0:00:20  0:00:17 16231\r",
      " 54 2223k   54 1208k    0     0  58011      0  0:00:39  0:00:21  0:00:18  9335\r",
      " 54 2223k   54 1214k    0     0  55685      0  0:00:40  0:00:22  0:00:18  4670\r",
      " 55 2223k   55 1239k    0     0  53993      0  0:00:42  0:00:23  0:00:19  7213\r",
      " 56 2223k   56 1258k    0     0  52685      0  0:00:43  0:00:24  0:00:19 10057\r",
      " 57 2223k   57 1284k    0     0  51786      0  0:00:43  0:00:25  0:00:18 15318\r",
      " 59 2223k   59 1317k    0     0  51282      0  0:00:44  0:00:26  0:00:18 22473\r",
      " 61 2223k   61 1371k    0     0  50959      0  0:00:44  0:00:27  0:00:17 30775\r",
      " 63 2223k   63 1408k    0     0  50690      0  0:00:44  0:00:28  0:00:16 35031\r",
      " 66 2223k   66 1474k    0     0  51363      0  0:00:44  0:00:29  0:00:15 44784\r",
      " 69 2223k   69 1536k    0     0  51904      0  0:00:43  0:00:30  0:00:13 52515\r",
      " 75 2223k   75 1673k    0     0  54326      0  0:00:41  0:00:31  0:00:10 69658\r",
      " 80 2223k   80 1782k    0     0  56227      0  0:00:40  0:00:32  0:00:08 85759\r",
      " 85 2223k   85 1902k    0     0  58360      0  0:00:39  0:00:33  0:00:06  100k\r",
      " 92 2223k   92 2058k    0     0  61443      0  0:00:37  0:00:34  0:00:03  118k\r",
      "100 2223k  100 2223k    0     0  64638      0  0:00:35  0:00:35 --:--:--  139k\n"
     ]
    }
   ],
   "source": [
    "%%bash\n",
    "if test -f won-raw.txt; then\n",
    "    echo using existing won-raw.txt\n",
    "else\n",
    "    curl http://www.gutenberg.org/cache/epub/3300/pg3300.txt | \n",
    "        sed 's/\\r//'  |\n",
    "        sed 's/^ *//;s/ *$//' |\n",
    "        grep -v '   ' |\n",
    "        sed 's/  */ /g' > won-raw.txt\n",
    "    sed 5q won-raw.txt\n",
    "fi"
   ]
  },
  {
   "cell_type": "code",
   "execution_count": 3,
   "metadata": {
    "collapsed": false
   },
   "outputs": [
    {
     "name": "stdout",
     "output_type": "stream",
     "text": [
      "conduct. Custom, in the same manner, has rendered leather shoes a\r\n",
      "pace seems rather to have been gradually accelerated than retarded. They\r\n",
      "army and navy, are unproductive labourers. They are the servants of\r\n",
      "In other countries, rent and profit eat up wages, and the two superior\r\n",
      "of industry in a particular country. It seems even to have no very\r\n"
     ]
    }
   ],
   "source": [
    "!awk 'length()>10' won-raw.txt | sort -R > won.txt\n",
    "!sed 5q won.txt"
   ]
  },
  {
   "cell_type": "code",
   "execution_count": 4,
   "metadata": {
    "collapsed": false
   },
   "outputs": [],
   "source": [
    "!sed 's/ //g' < won.txt > won-nospc.txt\n",
    "!paste won-nospc.txt won.txt > won-all.txt"
   ]
  },
  {
   "cell_type": "code",
   "execution_count": 5,
   "metadata": {
    "collapsed": false
   },
   "outputs": [
    {
     "name": "stdout",
     "output_type": "stream",
     "text": [
      "   32543 won-all.txt\n",
      "   32543 won-nospc.txt\n",
      "   35224 won-raw.txt\n",
      "    3254 won-test.txt\n",
      "   29289 won-train.txt\n",
      "  132853 total\n",
      "theirstock,ortherentoftheirland.\ttheir stock, or the rent of their land.\n",
      "swordindefenceoftheirownimportance.\tsword in defence of their own importance.\n",
      "equallyso.\tequally so.\n",
      "ofhisneighbours.\tof his neighbours.\n",
      "intheEuropeanmarket.\tin the European market.\n",
      "profit,greatlyabovetheirnaturalrate.\tprofit, greatly above their natural rate.\n",
      "annualreproductionofthisneatproduce.\tannual reproduction of this neat produce.\n",
      "ancientones.\tancient ones.\n",
      "whichitaffords.\twhich it affords.\n",
      "whatmaybecalleditsnaturalprice.\twhat may be called its natural price.\n",
      "awk: write failure (Broken pipe)\n",
      "awk: close failed on file /dev/stdout (Broken pipe)\n"
     ]
    }
   ],
   "source": [
    "!awk 'NR%10==0' < won-all.txt > won-test.txt\n",
    "!awk 'NR%10!=0' < won-all.txt > won-train.txt\n",
    "!wc -l won-*.txt\n",
    "!awk 'length()<80' won-train.txt | sed 10q"
   ]
  },
  {
   "cell_type": "code",
   "execution_count": null,
   "metadata": {
    "collapsed": false
   },
   "outputs": [
    {
     "name": "stdout",
     "output_type": "stream",
     "text": [
      "#: mode = train\n",
      "#: seed = 0\n",
      "got 29289 lines\n",
      "#: load = \n",
      "#: save_every = 0\n",
      "#: save_name = addspaces\n",
      "#: after_save = \n",
      "#: ntrain = 100000\n",
      "#: lrate = 0.001\n",
      "#: nhidden = 30\n",
      "#: display_every = 0\n",
      "#: report_every = 1000\n",
      "#: randomize = 1\n",
      "#: lrnorm = batch\n",
      "#: lstm = BIDILSTM\n",
      "#: lstm_type = NPLSTM\n",
      "#: output_type = SoftmaxLayer\n",
      "#: testset = won-test.txt\n",
      "#: test_every = 5000\n",
      "#: after_test = \n",
      "params hg_version e2c1951cf0a9eb826f706e03a5c3cb3534d7a176 lrate 0.001 nhidden 30 nhidden2 -1 batch 1 momentum 0.9\n",
      "UNKNOWN EXCEPTION\n"
     ]
    }
   ],
   "source": [
    "!maxeval=1000 save_every=0 save_name=addspaces lrate=1e-3 nhidden=30 report_every=1000 \\\n",
    "test_every=5000 lstm=BIDILSTM testset=won-test.txt ntrain=100000 \\\n",
    "params=1 ../clstmtext won-train.txt"
   ]
  },
  {
   "cell_type": "code",
   "execution_count": null,
   "metadata": {
    "collapsed": false
   },
   "outputs": [
    {
     "name": "stdout",
     "output_type": "stream",
     "text": [
      "got 29288 inputs, 3254 tests\n",
      "#: nhidden = 100\n",
      "#: momentum = 0.9\n",
      "#: rate = 0.0001\n",
      ".stacked: 0.0001 0.9 in 0 90 out 0 91\n",
      ".stacked.parallel: 0.0001 0.9 in 0 90 out 0 200\n",
      ".stacked.parallel.lstm: 0.0001 0.9 in 0 90 out 0 100\n",
      ".stacked.parallel.reversed: 0.0001 0.9 in 0 90 out 0 100\n",
      ".stacked.parallel.reversed.lstm: 0.0001 0.9 in 0 90 out 0 100\n",
      ".stacked.softmax: 0.0001 0.9 in 0 200 out 0 91\n",
      "#: ntrain = 10000000\n",
      "#: save_every = 10000\n",
      "#: save_name = _filter\n",
      "#: report_every = 100\n",
      "#: test_every = 10000\n",
      "#: after_test = \n",
      "trial 0\n",
      "INP withtheendofthesessionofparliamentwhichshallimmediatelyfollow\n",
      "TRU with the end of the session of parliament which shall immediately follow\n",
      "ALN \n",
      "OUT \n",
      "trial 100\n",
      "INP himsufficientlyforwar.Running,wrestling,cudgel-playing,throwing\n",
      "TRU him sufficiently for war. Running, wrestling, cudgel-playing, throwing\n",
      "ALN \n",
      "OUT \n",
      "trial 200\n",
      "INP engrosstoitselfthewholeadvantageofthetradeofitsowncolonies,\n",
      "TRU engross to itself the whole advantage of the trade of its own colonies,\n",
      "ALN \n",
      "OUT \n",
      "trial 300\n",
      "INP regulationstendtosinktheprice,eitherofwoolorofrawhides,\n",
      "TRU regulations tend to sink the price, either of wool or of raw hides,\n",
      "ALN \n",
      "OUT \n",
      "trial 400\n",
      "INP shouldnot,atanyonemomentoftime,besupposedgreaterthanthe\n",
      "TRU should not, at any one moment of time, be supposed greater than the\n",
      "ALN \n",
      "OUT \n",
      "trial 500\n",
      "INP Thecurrencyofagreatstate,suchasFranceorEngland,generally\n",
      "TRU The currency of a great state, such as France or England, generally\n",
      "ALN \n",
      "OUT \n",
      "trial 600\n",
      "INP whichtheScotchbankingcompaniesacceptofrepaymentare,sofarasI\n",
      "TRU which the Scotch banking companies accept of repayment are, so far as I\n",
      "ALN \n",
      "OUT \n",
      "trial 700\n",
      "INP actuallydoescontain.BeforethereformationofthesilvercoininKing\n",
      "TRU actually does contain. Before the reformation of the silver coin in King\n",
      "ALN \n",
      "OUT \n",
      "trial 800\n",
      "INP choosetodeal;ofwhatisdestinedforhomeconsumption,aswellas\n",
      "TRU choose to deal; of what is destined for home consumption, as well as\n",
      "ALN \n",
      "OUT \n",
      "trial 900\n",
      "INP foreignmarketswiththetradersofothernations.Theirmonopolyshows\n",
      "TRU foreign markets with the traders of other nations. Their monopoly shows\n",
      "ALN \n",
      "OUT \n"
     ]
    }
   ],
   "source": [
    "!params=1 lrate=1e-3 save_file=spc ../clstmfiltertrain won-train.txt won-test.txt"
   ]
  },
  {
   "cell_type": "code",
   "execution_count": null,
   "metadata": {
    "collapsed": true
   },
   "outputs": [],
   "source": []
  }
 ],
 "metadata": {
  "kernelspec": {
   "display_name": "Python 2",
   "language": "python",
   "name": "python2"
  },
  "language_info": {
   "codemirror_mode": {
    "name": "ipython",
    "version": 2
   },
   "file_extension": ".py",
   "mimetype": "text/x-python",
   "name": "python",
   "nbconvert_exporter": "python",
   "pygments_lexer": "ipython2",
   "version": "2.7.6"
  }
 },
 "nbformat": 4,
 "nbformat_minor": 0
}
